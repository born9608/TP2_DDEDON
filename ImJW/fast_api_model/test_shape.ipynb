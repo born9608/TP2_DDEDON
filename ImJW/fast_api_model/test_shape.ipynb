{
 "cells": [
  {
   "cell_type": "code",
   "execution_count": 11,
   "metadata": {},
   "outputs": [
    {
     "data": {
      "text/plain": [
       "((None, 5, 8), 8, 2)"
      ]
     },
     "execution_count": 11,
     "metadata": {},
     "output_type": "execute_result"
    }
   ],
   "source": [
    "from tensorflow.keras.models import load_model\n",
    "\n",
    "# Load the uploaded Keras model\n",
    "model_path = 'simple_model_2.h5'\n",
    "model = load_model(model_path)\n",
    "\n",
    "# Get the input shape of the model\n",
    "input_shape = model.input_shape\n",
    "\n",
    "# Get the number of input variables (features) and their dimensions\n",
    "num_input_variables = input_shape[-1]\n",
    "input_dimensions = len(input_shape[1:])\n",
    "\n",
    "input_shape, num_input_variables, input_dimensions"
   ]
  },
  {
   "cell_type": "code",
   "execution_count": null,
   "metadata": {},
   "outputs": [],
   "source": []
  }
 ],
 "metadata": {
  "kernelspec": {
   "display_name": "base",
   "language": "python",
   "name": "python3"
  },
  "language_info": {
   "codemirror_mode": {
    "name": "ipython",
    "version": 3
   },
   "file_extension": ".py",
   "mimetype": "text/x-python",
   "name": "python",
   "nbconvert_exporter": "python",
   "pygments_lexer": "ipython3",
   "version": "3.10.9"
  },
  "orig_nbformat": 4
 },
 "nbformat": 4,
 "nbformat_minor": 2
}
